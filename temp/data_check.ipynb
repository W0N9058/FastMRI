{
 "cells": [
  {
   "cell_type": "markdown",
   "metadata": {},
   "source": [
    "데이터 편향성 확인을 위한 코드"
   ]
  },
  {
   "cell_type": "code",
   "execution_count": null,
   "metadata": {},
   "outputs": [],
   "source": [
    "import torch\n",
    "import h5py\n",
    "import numpy as np\n",
    "import matplotlib.pyplot as plt\n",
    "from pathlib import Path\n",
    "from tqdm import tqdm"
   ]
  },
  {
   "cell_type": "code",
   "execution_count": null,
   "metadata": {},
   "outputs": [],
   "source": [
    "# 데이터셋 경로와 키 설정\n",
    "data_dir = 'path/to/your/dataset'\n",
    "input_key = 'kspace'\n",
    "target_key = 'image'\n",
    "\n",
    "def load_data(file_path, input_key, target_key, device='cuda'):\n",
    "    with h5py.File(file_path, 'r') as f:\n",
    "        masked_data = torch.tensor(np.array(f[input_key]), device=device)\n",
    "        original_data = torch.tensor(np.array(f[target_key]), device=device)\n",
    "    return masked_data, original_data"
   ]
  },
  {
   "cell_type": "markdown",
   "metadata": {},
   "source": [
    "기존의 data/load_data 모듈을 활용할 수 있는 방법은 없을까?\n",
    "우리에게 주어진 데이터셋의 구조를 한 번 더 확인해볼 필요가 있을 듯"
   ]
  },
  {
   "cell_type": "code",
   "execution_count": null,
   "metadata": {},
   "outputs": [],
   "source": [
    "def calculate_deviation(masked, original):\n",
    "    deviation = torch.abs(original - masked)\n",
    "    return deviation\n",
    "\n",
    "def visualize_deviation_histogram(deviation, title='Deviation between Original and Masked Data'):\n",
    "    deviation_cpu = deviation.cpu().numpy()\n",
    "    plt.figure(figsize=(10, 6))\n",
    "    plt.hist(deviation_cpu.flatten(), bins=50, alpha=0.75)\n",
    "    plt.title(title)\n",
    "    plt.xlabel('Deviation')\n",
    "    plt.ylabel('Frequency')\n",
    "    plt.grid(True)\n",
    "    plt.show()\n",
    "    \n",
    "def analyze_bias(data_dir, input_key, target_key, device='cuda'):\n",
    "    all_deviation = []\n",
    "\n",
    "    # 데이터 파일 리스트 가져오기\n",
    "    data_files = list(Path(data_dir).rglob('*.h5'))\n",
    "    \n",
    "    for file_path in tqdm(data_files, desc=\"Processing files\"):\n",
    "        masked_data, original_data = load_data(file_path, input_key, target_key, device)\n",
    "        deviation = calculate_deviation(masked_data, original_data)\n",
    "        all_deviation.append(deviation.cpu().numpy())\n",
    "    \n",
    "    # 전체 편차 데이터 결합\n",
    "    all_deviation = np.concatenate(all_deviation)\n",
    "    visualize_deviation_histogram(torch.tensor(all_deviation), title=\"Overall Deviation Histogram\")"
   ]
  },
  {
   "cell_type": "markdown",
   "metadata": {},
   "source": [
    "어떻게 시각화해야 데이터의 편향성을 쉽게 찾아낼 수 있을까?\n",
    "관련 모듈이 존재할까?"
   ]
  },
  {
   "cell_type": "code",
   "execution_count": null,
   "metadata": {},
   "outputs": [],
   "source": [
    "analyze_bias(data_dir, input_key, target_key)"
   ]
  }
 ],
 "metadata": {
  "language_info": {
   "name": "python"
  }
 },
 "nbformat": 4,
 "nbformat_minor": 2
}
